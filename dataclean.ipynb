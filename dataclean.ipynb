{
 "cells": [
  {
   "cell_type": "code",
   "execution_count": null,
   "metadata": {},
   "outputs": [],
   "source": [
    "import pymysql\n",
    "import PyEmailValidator\n",
    "\n",
    "\n"
   ]
  },
  {
   "attachments": {},
   "cell_type": "markdown",
   "metadata": {},
   "source": [
    "Connect to the database"
   ]
  },
  {
   "cell_type": "code",
   "execution_count": null,
   "metadata": {},
   "outputs": [],
   "source": [
    "\n",
    "connection = pymysql.connect(host='localhost', user='root', password='password', database='database_name')\n"
   ]
  },
  {
   "attachments": {},
   "cell_type": "markdown",
   "metadata": {},
   "source": [
    "Read the data from the database"
   ]
  },
  {
   "cell_type": "code",
   "execution_count": null,
   "metadata": {},
   "outputs": [],
   "source": [
    "cursor = connection.cursor()\n",
    "cursor.execute('SELECT * FROM table_name')\n",
    "data = cursor.fetchall()\n",
    "\n"
   ]
  },
  {
   "attachments": {},
   "cell_type": "markdown",
   "metadata": {},
   "source": [
    "Clean invalid addresses and phone numbers"
   ]
  },
  {
   "cell_type": "code",
   "execution_count": null,
   "metadata": {},
   "outputs": [],
   "source": [
    "\n",
    "for row in data:\n",
    "    for email in row['Email 1'], row['Email 2'], row['Email 3']:\n",
    "        if not PyEmailValidator.validate_email(email):\n",
    "            row['Email 1'] = row['Email 2'] = row['Email 3'] = ''\n",
    "\n",
    "\n",
    "for row in data:\n",
    "    if row['Main Phone'].startswith('020') or row['Main Phone'].startswith('20'):\n",
    "        row['Main Phone'] = ''\n",
    "\n"
   ]
  },
  {
   "attachments": {},
   "cell_type": "markdown",
   "metadata": {},
   "source": [
    "Save to database"
   ]
  },
  {
   "cell_type": "code",
   "execution_count": null,
   "metadata": {},
   "outputs": [],
   "source": [
    "\n",
    "for row in data:\n",
    "    cursor.execute('UPDATE table_name SET Email 1=%s, Email 2=%s, Email 3=%s, Main Phone=%s WHERE id=%s', (row['Email 1'], row['Email 2'], row['Email 3'], row['Main Phone'], row['id']))\n",
    "connection.commit()\n",
    "\n"
   ]
  },
  {
   "attachments": {},
   "cell_type": "markdown",
   "metadata": {},
   "source": [
    "Close connection"
   ]
  },
  {
   "cell_type": "code",
   "execution_count": null,
   "metadata": {},
   "outputs": [],
   "source": [
    "connection.close()"
   ]
  }
 ],
 "metadata": {
  "language_info": {
   "name": "python"
  },
  "orig_nbformat": 4
 },
 "nbformat": 4,
 "nbformat_minor": 2
}
